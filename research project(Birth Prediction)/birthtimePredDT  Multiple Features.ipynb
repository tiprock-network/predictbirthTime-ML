{
 "cells": [
  {
   "cell_type": "markdown",
   "metadata": {},
   "source": [
    "# Using Decision Trees for Regression Analysis\n",
    "### Using multiple variables\n",
    "* Blood Pressure\n",
    "* BMI\n",
    "* weight\n"
   ]
  },
  {
   "cell_type": "code",
   "execution_count": 2,
   "metadata": {},
   "outputs": [],
   "source": [
    "import pandas as pd\n",
    "import numpy as np\n",
    "import matplotlib.pyplot as plt\n",
    "import math\n",
    "import copy"
   ]
  },
  {
   "cell_type": "code",
   "execution_count": 14,
   "metadata": {},
   "outputs": [
    {
     "name": "stdout",
     "output_type": "stream",
     "text": [
      "   systolic  diastolic   BMI     time RAWWeight  momWeight/10  timeConv  \\\n",
      "0     122.0       92.0  19.7   9:30am     75kgs          7.50   9:30 AM   \n",
      "1     110.0       80.0  18.5  10:20am     60kgs          6.00  10:20 AM   \n",
      "2     122.0       76.0  20.1   8:20pm     77kgs          7.70   8:20 PM   \n",
      "3     126.0       94.0  22.3   3:15pm   76.5kgs          7.65   3:15 PM   \n",
      "4     124.0       86.0  20.2  12:10pm   62.4kgs          6.24  12:10 PM   \n",
      "\n",
      "  time24HRS  timeValueinHrs  \n",
      "0     09:30            9.50  \n",
      "1     10:20           10.33  \n",
      "2     20:20           20.33  \n",
      "3     15:15           15.25  \n",
      "4     12:10           12.17  \n"
     ]
    },
    {
     "data": {
      "text/html": [
       "<div>\n",
       "<style scoped>\n",
       "    .dataframe tbody tr th:only-of-type {\n",
       "        vertical-align: middle;\n",
       "    }\n",
       "\n",
       "    .dataframe tbody tr th {\n",
       "        vertical-align: top;\n",
       "    }\n",
       "\n",
       "    .dataframe thead th {\n",
       "        text-align: right;\n",
       "    }\n",
       "</style>\n",
       "<table border=\"1\" class=\"dataframe\">\n",
       "  <thead>\n",
       "    <tr style=\"text-align: right;\">\n",
       "      <th></th>\n",
       "      <th>systolic</th>\n",
       "      <th>diastolic</th>\n",
       "      <th>BMI</th>\n",
       "      <th>momWeight/10</th>\n",
       "      <th>timeValueinHrs</th>\n",
       "    </tr>\n",
       "  </thead>\n",
       "  <tbody>\n",
       "    <tr>\n",
       "      <th>0</th>\n",
       "      <td>110</td>\n",
       "      <td>80</td>\n",
       "      <td>19.3</td>\n",
       "      <td>5.59</td>\n",
       "      <td>20.33</td>\n",
       "    </tr>\n",
       "    <tr>\n",
       "      <th>1</th>\n",
       "      <td>124</td>\n",
       "      <td>86</td>\n",
       "      <td>18.5</td>\n",
       "      <td>5.59</td>\n",
       "      <td>7.25</td>\n",
       "    </tr>\n",
       "    <tr>\n",
       "      <th>2</th>\n",
       "      <td>110</td>\n",
       "      <td>80</td>\n",
       "      <td>19.3</td>\n",
       "      <td>5.59</td>\n",
       "      <td>15.50</td>\n",
       "    </tr>\n",
       "    <tr>\n",
       "      <th>3</th>\n",
       "      <td>124</td>\n",
       "      <td>86</td>\n",
       "      <td>25.1</td>\n",
       "      <td>5.59</td>\n",
       "      <td>9.35</td>\n",
       "    </tr>\n",
       "    <tr>\n",
       "      <th>4</th>\n",
       "      <td>122</td>\n",
       "      <td>76</td>\n",
       "      <td>19.3</td>\n",
       "      <td>5.59</td>\n",
       "      <td>20.22</td>\n",
       "    </tr>\n",
       "  </tbody>\n",
       "</table>\n",
       "</div>"
      ],
      "text/plain": [
       "   systolic  diastolic   BMI  momWeight/10  timeValueinHrs\n",
       "0       110         80  19.3          5.59           20.33\n",
       "1       124         86  18.5          5.59            7.25\n",
       "2       110         80  19.3          5.59           15.50\n",
       "3       124         86  25.1          5.59            9.35\n",
       "4       122         76  19.3          5.59           20.22"
      ]
     },
     "execution_count": 14,
     "metadata": {},
     "output_type": "execute_result"
    }
   ],
   "source": [
    "#dataframe\n",
    "dataframe=pd.read_csv('labourward.csv')\n",
    "df_features=pd.read_csv('labourward2.csv')\n",
    "print(dataframe.head())\n",
    "df_features.head()"
   ]
  },
  {
   "cell_type": "code",
   "execution_count": 4,
   "metadata": {},
   "outputs": [
    {
     "name": "stdout",
     "output_type": "stream",
     "text": [
      "(101, 9)\n"
     ]
    }
   ],
   "source": [
    "#dataset shape\n",
    "dataset=np.array(dataframe)\n",
    "print(dataset.shape)"
   ]
  },
  {
   "cell_type": "code",
   "execution_count": 30,
   "metadata": {},
   "outputs": [
    {
     "name": "stdout",
     "output_type": "stream",
     "text": [
      "[[110.    80.    19.3    5.59]\n",
      " [124.    86.    18.5    5.59]\n",
      " [110.    80.    19.3    5.59]\n",
      " [124.    86.    25.1    5.59]\n",
      " [122.    76.    19.3    5.59]\n",
      " [122.    88.    25.1    5.7 ]\n",
      " [122.    88.    18.5    5.7 ]\n",
      " [110.    80.    24.3    5.8 ]\n",
      " [122.    92.    22.7    5.8 ]\n",
      " [110.    80.    19.3    5.8 ]\n",
      " [122.    92.    23.4    5.8 ]\n",
      " [122.    76.    19.3    5.8 ]\n",
      " [110.    80.    23.4    5.8 ]\n",
      " [110.    80.    18.5    6.  ]\n",
      " [110.    80.    22.7    6.  ]\n",
      " [122.    76.    25.1    6.1 ]\n",
      " [122.    76.    24.3    6.1 ]\n",
      " [124.    86.    20.2    6.24]\n",
      " [122.    76.    23.4    6.24]\n",
      " [124.    86.    19.3    6.24]\n",
      " [122.    76.    22.3    6.24]\n",
      " [124.    86.    25.1    6.24]\n",
      " [112.    64.    19.3    6.3 ]\n",
      " [112.    64.    25.1    6.3 ]\n",
      " [124.    86.    25.1    6.3 ]\n",
      " [122.    76.    23.4    6.32]\n",
      " [122.    88.    20.1    6.32]\n",
      " [122.    76.    23.4    6.32]\n",
      " [122.    88.    19.3    6.32]\n",
      " [126.    94.    23.4    6.32]\n",
      " [112.    64.    21.2    6.5 ]\n",
      " [110.    80.    22.3    6.5 ]\n",
      " [112.    64.    22.7    6.5 ]\n",
      " [110.    80.    23.4    6.5 ]\n",
      " [124.    86.    22.7    6.5 ]\n",
      " [112.    64.    22.7    6.8 ]\n",
      " [108.    62.    24.3    6.8 ]\n",
      " [110.    80.    19.3    6.8 ]\n",
      " [112.    64.    22.7    6.8 ]\n",
      " [110.    80.    22.7    6.8 ]\n",
      " [110.    80.    18.3    6.8 ]\n",
      " [122.    76.    22.7    6.8 ]\n",
      " [112.    64.    18.5    6.8 ]\n",
      " [120.    90.    25.1    6.97]\n",
      " [112.    64.    19.2    6.97]\n",
      " [120.    90.    25.1    6.97]\n",
      " [112.    64.    24.3    6.97]\n",
      " [110.    80.    25.1    6.97]\n",
      " [122.    92.    22.3    6.97]\n",
      " [122.    88.    23.4    7.  ]\n",
      " [124.    86.    18.3    7.  ]\n",
      " [112.    64.    22.7    7.  ]\n",
      " [122.    76.    20.2    7.  ]\n",
      " [122.    88.    23.4    7.  ]\n",
      " [124.    86.    24.3    7.  ]\n",
      " [112.    64.    20.2    7.  ]\n",
      " [122.    76.    21.2    7.  ]\n",
      " [122.    88.    24.3    7.  ]\n",
      " [122.    88.    19.3    7.  ]\n",
      " [124.    86.    24.3    7.07]\n",
      " [122.    76.    23.4    7.07]\n",
      " [124.    86.    24.3    7.07]\n",
      " [122.    76.    22.7    7.07]\n",
      " [122.    92.    24.3    7.07]\n",
      " [124.    86.    20.1    7.07]\n",
      " [122.    76.    18.3    7.1 ]\n",
      " [120.    90.    25.1    7.1 ]\n",
      " [122.    76.    18.3    7.1 ]\n",
      " [120.    90.    21.2    7.1 ]\n",
      " [122.    76.    19.2    7.1 ]\n",
      " [124.    86.    23.4    7.2 ]\n",
      " [124.    86.    19.3    7.2 ]\n",
      " [120.    90.    19.3    7.2 ]\n",
      " [126.    94.    19.3    7.3 ]\n",
      " [126.    94.    25.1    7.3 ]\n",
      " [122.    92.    19.7    7.5 ]\n",
      " [124.    86.    21.2    7.5 ]\n",
      " [122.    92.    18.3    7.5 ]\n",
      " [124.    86.    22.7    7.5 ]\n",
      " [126.    94.    22.3    7.65]\n",
      " [110.    80.    19.3    7.65]\n",
      " [126.    94.    25.1    7.65]\n",
      " [110.    80.    20.1    7.65]\n",
      " [112.    64.    24.3    7.65]\n",
      " [122.    76.    20.1    7.7 ]\n",
      " [122.    76.    24.3    7.7 ]\n",
      " [122.    76.    25.1    8.2 ]\n",
      " [124.    86.    23.4    8.2 ]\n",
      " [122.    76.    23.4    8.2 ]\n",
      " [124.    86.    19.2    8.2 ]\n",
      " [112.    64.    23.4    8.2 ]\n",
      " [122.    88.    22.7    8.3 ]\n",
      " [112.    64.    23.4    8.3 ]\n",
      " [122.    88.    25.1    8.3 ]\n",
      " [112.    64.    18.3    8.3 ]\n",
      " [110.    80.    25.1    8.3 ]\n",
      " [110.    80.    21.2    8.5 ]\n",
      " [124.    86.    24.3    8.5 ]\n",
      " [110.    80.    21.2    8.5 ]\n",
      " [124.    86.    23.4    8.5 ]\n",
      " [110.    80.    23.4    8.5 ]]\n"
     ]
    }
   ],
   "source": [
    "#x=np.array(dataframe['momWeight/10']).reshape(-1,1)\n",
    "#or\n",
    "x=np.array(df_features[['systolic','diastolic','BMI','momWeight/10']])\n",
    "print(x)"
   ]
  },
  {
   "cell_type": "code",
   "execution_count": 31,
   "metadata": {},
   "outputs": [
    {
     "name": "stdout",
     "output_type": "stream",
     "text": [
      "[9.5 10.33 20.33 15.25 12.17 11.08 8.5 6.02 9.33 9.5 10.33 20.33 15.25\n",
      " 12.17 11.08 8.5 6.02 9.33 11.23 9.07 6.33 9.22 12.38 15.5 16.5 12.38 9.35\n",
      " 22.38 23.35 9.6 6.22 12.25 11.07 12.27 7.25 9.68 15.33 20.43 22.07 22.38\n",
      " 23.35 9.6 6.22 12.25 11.07 12.27 7.25 9.68 15.33 20.43 22.07 15.5 16.5\n",
      " 12.38 9.35 22.38 23.35 9.6 6.22 12.25 11.07 12.27 7.25 9.68 3.35 20.22\n",
      " 11.23 9.07 6.33 9.22 12.38 15.5 16.5 12.38 9.35 22.38 23.35 9.6 6.22 17.5\n",
      " 0.27 3.35 20.22 11.23 9.07 6.33 9.22 12.38 15.5 16.5 12.38 9.35 22.38\n",
      " 23.35 21.27 10.37 9.25 16.27 9.38 22.27 6.02]\n"
     ]
    }
   ],
   "source": [
    "y=dataset[:,8] #1 D column expected\n",
    "print(y)"
   ]
  },
  {
   "cell_type": "code",
   "execution_count": 32,
   "metadata": {},
   "outputs": [],
   "source": [
    "#divide into train and test\n",
    "from sklearn.model_selection import train_test_split\n",
    "x_train,x_test,y_train,y_test=train_test_split(x,y,random_state=100)"
   ]
  },
  {
   "cell_type": "code",
   "execution_count": 33,
   "metadata": {},
   "outputs": [
    {
     "data": {
      "text/html": [
       "<style>#sk-container-id-1 {color: black;background-color: white;}#sk-container-id-1 pre{padding: 0;}#sk-container-id-1 div.sk-toggleable {background-color: white;}#sk-container-id-1 label.sk-toggleable__label {cursor: pointer;display: block;width: 100%;margin-bottom: 0;padding: 0.3em;box-sizing: border-box;text-align: center;}#sk-container-id-1 label.sk-toggleable__label-arrow:before {content: \"▸\";float: left;margin-right: 0.25em;color: #696969;}#sk-container-id-1 label.sk-toggleable__label-arrow:hover:before {color: black;}#sk-container-id-1 div.sk-estimator:hover label.sk-toggleable__label-arrow:before {color: black;}#sk-container-id-1 div.sk-toggleable__content {max-height: 0;max-width: 0;overflow: hidden;text-align: left;background-color: #f0f8ff;}#sk-container-id-1 div.sk-toggleable__content pre {margin: 0.2em;color: black;border-radius: 0.25em;background-color: #f0f8ff;}#sk-container-id-1 input.sk-toggleable__control:checked~div.sk-toggleable__content {max-height: 200px;max-width: 100%;overflow: auto;}#sk-container-id-1 input.sk-toggleable__control:checked~label.sk-toggleable__label-arrow:before {content: \"▾\";}#sk-container-id-1 div.sk-estimator input.sk-toggleable__control:checked~label.sk-toggleable__label {background-color: #d4ebff;}#sk-container-id-1 div.sk-label input.sk-toggleable__control:checked~label.sk-toggleable__label {background-color: #d4ebff;}#sk-container-id-1 input.sk-hidden--visually {border: 0;clip: rect(1px 1px 1px 1px);clip: rect(1px, 1px, 1px, 1px);height: 1px;margin: -1px;overflow: hidden;padding: 0;position: absolute;width: 1px;}#sk-container-id-1 div.sk-estimator {font-family: monospace;background-color: #f0f8ff;border: 1px dotted black;border-radius: 0.25em;box-sizing: border-box;margin-bottom: 0.5em;}#sk-container-id-1 div.sk-estimator:hover {background-color: #d4ebff;}#sk-container-id-1 div.sk-parallel-item::after {content: \"\";width: 100%;border-bottom: 1px solid gray;flex-grow: 1;}#sk-container-id-1 div.sk-label:hover label.sk-toggleable__label {background-color: #d4ebff;}#sk-container-id-1 div.sk-serial::before {content: \"\";position: absolute;border-left: 1px solid gray;box-sizing: border-box;top: 0;bottom: 0;left: 50%;z-index: 0;}#sk-container-id-1 div.sk-serial {display: flex;flex-direction: column;align-items: center;background-color: white;padding-right: 0.2em;padding-left: 0.2em;position: relative;}#sk-container-id-1 div.sk-item {position: relative;z-index: 1;}#sk-container-id-1 div.sk-parallel {display: flex;align-items: stretch;justify-content: center;background-color: white;position: relative;}#sk-container-id-1 div.sk-item::before, #sk-container-id-1 div.sk-parallel-item::before {content: \"\";position: absolute;border-left: 1px solid gray;box-sizing: border-box;top: 0;bottom: 0;left: 50%;z-index: -1;}#sk-container-id-1 div.sk-parallel-item {display: flex;flex-direction: column;z-index: 1;position: relative;background-color: white;}#sk-container-id-1 div.sk-parallel-item:first-child::after {align-self: flex-end;width: 50%;}#sk-container-id-1 div.sk-parallel-item:last-child::after {align-self: flex-start;width: 50%;}#sk-container-id-1 div.sk-parallel-item:only-child::after {width: 0;}#sk-container-id-1 div.sk-dashed-wrapped {border: 1px dashed gray;margin: 0 0.4em 0.5em 0.4em;box-sizing: border-box;padding-bottom: 0.4em;background-color: white;}#sk-container-id-1 div.sk-label label {font-family: monospace;font-weight: bold;display: inline-block;line-height: 1.2em;}#sk-container-id-1 div.sk-label-container {text-align: center;}#sk-container-id-1 div.sk-container {/* jupyter's `normalize.less` sets `[hidden] { display: none; }` but bootstrap.min.css set `[hidden] { display: none !important; }` so we also need the `!important` here to be able to override the default hidden behavior on the sphinx rendered scikit-learn.org. See: https://github.com/scikit-learn/scikit-learn/issues/21755 */display: inline-block !important;position: relative;}#sk-container-id-1 div.sk-text-repr-fallback {display: none;}</style><div id=\"sk-container-id-1\" class=\"sk-top-container\"><div class=\"sk-text-repr-fallback\"><pre>DecisionTreeRegressor(random_state=0)</pre><b>In a Jupyter environment, please rerun this cell to show the HTML representation or trust the notebook. <br />On GitHub, the HTML representation is unable to render, please try loading this page with nbviewer.org.</b></div><div class=\"sk-container\" hidden><div class=\"sk-item\"><div class=\"sk-estimator sk-toggleable\"><input class=\"sk-toggleable__control sk-hidden--visually\" id=\"sk-estimator-id-1\" type=\"checkbox\" checked><label for=\"sk-estimator-id-1\" class=\"sk-toggleable__label sk-toggleable__label-arrow\">DecisionTreeRegressor</label><div class=\"sk-toggleable__content\"><pre>DecisionTreeRegressor(random_state=0)</pre></div></div></div></div></div>"
      ],
      "text/plain": [
       "DecisionTreeRegressor(random_state=0)"
      ]
     },
     "execution_count": 33,
     "metadata": {},
     "output_type": "execute_result"
    }
   ],
   "source": [
    "#import decision trees\n",
    "from sklearn.tree import  DecisionTreeRegressor\n",
    "\n",
    "#regressor object\n",
    "reg=DecisionTreeRegressor(random_state=0)\n",
    "#fitting parameter values\n",
    "reg.fit(x_train,y_train)"
   ]
  },
  {
   "cell_type": "markdown",
   "metadata": {},
   "source": [
    "Testing the model for output"
   ]
  },
  {
   "cell_type": "code",
   "execution_count": 45,
   "metadata": {},
   "outputs": [
    {
     "name": "stdout",
     "output_type": "stream",
     "text": [
      "110.0/80.0mm/Hg \t19.3 BMI\t68.0 kg  = Prediction: 6.13 am\n",
      "122.0/76.0mm/Hg \t25.1 BMI\t82.0 kg  = Prediction: 6.20 am\n",
      "122.0/88.0mm/Hg \t20.1 BMI\t63.2 kg  = Prediction: 8.30 am\n",
      "122.0/88.0mm/Hg \t25.1 BMI\t83.0 kg  = Prediction: 6.20 am\n",
      "112.0/64.0mm/Hg \t22.7 BMI\t68.0 kg = Prediction: 10.04 pm\n",
      "122.0/76.0mm/Hg \t23.4 BMI\t63.2 kg = Prediction: 10.23 pm\n",
      "108.0/62.0mm/Hg \t24.3 BMI\t68.0 kg  = Prediction: 7.15 am\n",
      "110.0/80.0mm/Hg \t23.4 BMI\t65.0 kg = Prediction: 10.23 pm\n",
      "124.0/86.0mm/Hg \t22.7 BMI\t75.0 kg = Prediction: 11.21 pm\n",
      "124.0/86.0mm/Hg \t25.1 BMI\t62.4 kg = Prediction: 4.30 pm\n",
      "122.0/92.0mm/Hg \t19.7 BMI\t75.0 kg = Prediction: 8.13 pm\n",
      "112.0/64.0mm/Hg \t22.7 BMI\t70.0 kg = Prediction: 10.04 pm\n",
      "124.0/86.0mm/Hg \t20.1 BMI\t70.7 kg = Prediction: 3.30 pm\n",
      "122.0/88.0mm/Hg \t22.7 BMI\t83.0 kg  = Prediction: 6.01 am\n",
      "122.0/76.0mm/Hg \t23.4 BMI\t82.0 kg  = Prediction: 6.01 am\n",
      "110.0/80.0mm/Hg \t21.2 BMI\t85.0 kg  = Prediction: 9.23 am\n",
      "126.0/94.0mm/Hg \t19.3 BMI\t73.0 kg = Prediction: 3.30 pm\n",
      "122.0/88.0mm/Hg \t25.1 BMI\t57.0 kg  = Prediction: 8.30 am\n",
      "122.0/76.0mm/Hg \t22.7 BMI\t68.0 kg = Prediction: 10.04 pm\n",
      "122.0/76.0mm/Hg \t19.3 BMI\t58.0 kg  = Prediction: 9.04 am\n",
      "126.0/94.0mm/Hg \t23.4 BMI\t63.2 kg = Prediction: 10.23 pm\n",
      "122.0/76.0mm/Hg \t20.1 BMI\t77.0 kg = Prediction: 8.13 pm\n",
      "112.0/64.0mm/Hg \t24.3 BMI\t76.5 kg  = Prediction: 10.22 am\n",
      "120.0/90.0mm/Hg \t25.1 BMI\t69.7 kg = Prediction: 12.16 pm\n",
      "122.0/88.0mm/Hg \t19.3 BMI\t63.2 kg  = Prediction: 8.30 am\n",
      "112.0/64.0mm/Hg \t19.3 BMI\t63.0 kg  = Prediction: 9.04 am\n"
     ]
    }
   ],
   "source": [
    "y_hat=reg.predict(x_test)\n",
    "for i in range(len(x_test)):\n",
    "    res=y_hat[i]\n",
    "    m=(round((res-int(res))*60,0))/100\n",
    "    h=math.trunc(res)\n",
    "    time=m+h\n",
    "    if time>0.0 and time<12.0:\n",
    "     \n",
    "     print(f\"{x_test[i][0]}/{x_test[i][1]}mm/Hg \\t{x_test[i][2]} BMI\\t{round(x_test[i][3]*10,2)} kg  = Prediction: {time:0.2f} am\")\n",
    "    elif time>11.59 and time<23.59:\n",
    "        time=round(time-12.00,2)#convert into 12hrs clock\n",
    "        if time>=0.0 and time<=0.59:\n",
    "         print(f\"{x_test[i][0]}/{x_test[i][1]}mm/Hg \\t{x_test[i][2]} BMI\\t{round(x_test[i][3]*10,2)} kg = Prediction: {time+12.00:0.2f} pm\")\n",
    "        elif time>0.59:\n",
    "         print(f\"{x_test[i][0]}/{x_test[i][1]}mm/Hg \\t{x_test[i][2]} BMI\\t{round(x_test[i][3]*10,2)} kg = Prediction: {time:0.2f} pm\")\n",
    "    "
   ]
  },
  {
   "cell_type": "markdown",
   "metadata": {},
   "source": [
    "# Decision Tree Evaluation"
   ]
  },
  {
   "cell_type": "code",
   "execution_count": 46,
   "metadata": {},
   "outputs": [
    {
     "name": "stdout",
     "output_type": "stream",
     "text": [
      "MSE root: 9.573808421537779\n",
      "MAE root: 7.929999999999999\n"
     ]
    }
   ],
   "source": [
    "#get the mean squared error root\n",
    "from sklearn.metrics import mean_squared_error,mean_absolute_error\n",
    "print(f\"MSE root: {np.sqrt(mean_squared_error(y_test,y_hat))}\")\n",
    "print(f\"MAE root: {mean_absolute_error(y_test,y_hat)}\")"
   ]
  }
 ],
 "metadata": {
  "kernelspec": {
   "display_name": "Python 3.10.5 64-bit",
   "language": "python",
   "name": "python3"
  },
  "language_info": {
   "codemirror_mode": {
    "name": "ipython",
    "version": 3
   },
   "file_extension": ".py",
   "mimetype": "text/x-python",
   "name": "python",
   "nbconvert_exporter": "python",
   "pygments_lexer": "ipython3",
   "version": "3.10.5"
  },
  "orig_nbformat": 4,
  "vscode": {
   "interpreter": {
    "hash": "5b65f58aac08ef7a7032cc93a81d82c2e49bff9fbe70de5f6ea40a0cab91e5f6"
   }
  }
 },
 "nbformat": 4,
 "nbformat_minor": 2
}
