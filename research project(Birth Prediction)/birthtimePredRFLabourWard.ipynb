{
 "cells": [
  {
   "cell_type": "markdown",
   "metadata": {},
   "source": [
    "# Using Randforest with SciKit Learn to predict birth time"
   ]
  },
  {
   "cell_type": "code",
   "execution_count": 1,
   "metadata": {},
   "outputs": [],
   "source": [
    "import pandas as pd\n",
    "import numpy as np\n",
    "import matplotlib.pyplot as plt\n"
   ]
  },
  {
   "cell_type": "code",
   "execution_count": 2,
   "metadata": {},
   "outputs": [
    {
     "data": {
      "text/html": [
       "<div>\n",
       "<style scoped>\n",
       "    .dataframe tbody tr th:only-of-type {\n",
       "        vertical-align: middle;\n",
       "    }\n",
       "\n",
       "    .dataframe tbody tr th {\n",
       "        vertical-align: top;\n",
       "    }\n",
       "\n",
       "    .dataframe thead th {\n",
       "        text-align: right;\n",
       "    }\n",
       "</style>\n",
       "<table border=\"1\" class=\"dataframe\">\n",
       "  <thead>\n",
       "    <tr style=\"text-align: right;\">\n",
       "      <th></th>\n",
       "      <th>systolic</th>\n",
       "      <th>diastolic</th>\n",
       "      <th>BMI</th>\n",
       "      <th>time</th>\n",
       "      <th>RAWWeight</th>\n",
       "      <th>momWeight/10</th>\n",
       "      <th>timeConv</th>\n",
       "      <th>time24HRS</th>\n",
       "      <th>timeValueinHrs</th>\n",
       "    </tr>\n",
       "  </thead>\n",
       "  <tbody>\n",
       "    <tr>\n",
       "      <th>0</th>\n",
       "      <td>122.0</td>\n",
       "      <td>92.0</td>\n",
       "      <td>19.7</td>\n",
       "      <td>9:30am</td>\n",
       "      <td>75kgs</td>\n",
       "      <td>7.50</td>\n",
       "      <td>9:30 AM</td>\n",
       "      <td>09:30</td>\n",
       "      <td>9.50</td>\n",
       "    </tr>\n",
       "    <tr>\n",
       "      <th>1</th>\n",
       "      <td>110.0</td>\n",
       "      <td>80.0</td>\n",
       "      <td>18.5</td>\n",
       "      <td>10:20am</td>\n",
       "      <td>60kgs</td>\n",
       "      <td>6.00</td>\n",
       "      <td>10:20 AM</td>\n",
       "      <td>10:20</td>\n",
       "      <td>10.33</td>\n",
       "    </tr>\n",
       "    <tr>\n",
       "      <th>2</th>\n",
       "      <td>122.0</td>\n",
       "      <td>76.0</td>\n",
       "      <td>20.1</td>\n",
       "      <td>8:20pm</td>\n",
       "      <td>77kgs</td>\n",
       "      <td>7.70</td>\n",
       "      <td>8:20 PM</td>\n",
       "      <td>20:20</td>\n",
       "      <td>20.33</td>\n",
       "    </tr>\n",
       "    <tr>\n",
       "      <th>3</th>\n",
       "      <td>126.0</td>\n",
       "      <td>94.0</td>\n",
       "      <td>22.3</td>\n",
       "      <td>3:15pm</td>\n",
       "      <td>76.5kgs</td>\n",
       "      <td>7.65</td>\n",
       "      <td>3:15 PM</td>\n",
       "      <td>15:15</td>\n",
       "      <td>15.25</td>\n",
       "    </tr>\n",
       "    <tr>\n",
       "      <th>4</th>\n",
       "      <td>124.0</td>\n",
       "      <td>86.0</td>\n",
       "      <td>20.2</td>\n",
       "      <td>12:10pm</td>\n",
       "      <td>62.4kgs</td>\n",
       "      <td>6.24</td>\n",
       "      <td>12:10 PM</td>\n",
       "      <td>12:10</td>\n",
       "      <td>12.17</td>\n",
       "    </tr>\n",
       "  </tbody>\n",
       "</table>\n",
       "</div>"
      ],
      "text/plain": [
       "   systolic  diastolic   BMI     time RAWWeight  momWeight/10  timeConv  \\\n",
       "0     122.0       92.0  19.7   9:30am     75kgs          7.50   9:30 AM   \n",
       "1     110.0       80.0  18.5  10:20am     60kgs          6.00  10:20 AM   \n",
       "2     122.0       76.0  20.1   8:20pm     77kgs          7.70   8:20 PM   \n",
       "3     126.0       94.0  22.3   3:15pm   76.5kgs          7.65   3:15 PM   \n",
       "4     124.0       86.0  20.2  12:10pm   62.4kgs          6.24  12:10 PM   \n",
       "\n",
       "  time24HRS  timeValueinHrs  \n",
       "0     09:30            9.50  \n",
       "1     10:20           10.33  \n",
       "2     20:20           20.33  \n",
       "3     15:15           15.25  \n",
       "4     12:10           12.17  "
      ]
     },
     "execution_count": 2,
     "metadata": {},
     "output_type": "execute_result"
    }
   ],
   "source": [
    "#dataframe\n",
    "dataframe=pd.read_csv('labourward.csv')\n",
    "dataframe.head()"
   ]
  },
  {
   "cell_type": "code",
   "execution_count": 3,
   "metadata": {},
   "outputs": [
    {
     "name": "stdout",
     "output_type": "stream",
     "text": [
      "(101, 9)\n"
     ]
    }
   ],
   "source": [
    "#dataset shape\n",
    "dataset=np.array(dataframe)\n",
    "print(dataset.shape)"
   ]
  },
  {
   "cell_type": "code",
   "execution_count": 6,
   "metadata": {},
   "outputs": [
    {
     "name": "stdout",
     "output_type": "stream",
     "text": [
      "[[7.5]\n",
      " [6.0]\n",
      " [7.7]\n",
      " [7.65]\n",
      " [6.24]\n",
      " [7.0]\n",
      " [8.5]\n",
      " [7.1]\n",
      " [6.8]\n",
      " [7.07]\n",
      " [6.97]\n",
      " [5.59]\n",
      " [6.32]\n",
      " [6.5]\n",
      " [7.0]\n",
      " [8.3]\n",
      " [5.8]\n",
      " [8.2]\n",
      " [6.3]\n",
      " [7.2]\n",
      " [5.8]\n",
      " [6.8]\n",
      " [6.1]\n",
      " [7.3]\n",
      " [8.2]\n",
      " [5.7]\n",
      " [7.65]\n",
      " [6.24]\n",
      " [7.0]\n",
      " [8.5]\n",
      " [7.1]\n",
      " [6.8]\n",
      " [7.07]\n",
      " [6.97]\n",
      " [5.59]\n",
      " [6.32]\n",
      " [6.5]\n",
      " [7.0]\n",
      " [8.3]\n",
      " [7.5]\n",
      " [7.5]\n",
      " [6.0]\n",
      " [7.7]\n",
      " [7.65]\n",
      " [6.24]\n",
      " [7.0]\n",
      " [8.5]\n",
      " [7.1]\n",
      " [6.8]\n",
      " [7.07]\n",
      " [6.97]\n",
      " [5.59]\n",
      " [6.32]\n",
      " [6.5]\n",
      " [7.0]\n",
      " [8.3]\n",
      " [5.8]\n",
      " [8.2]\n",
      " [6.3]\n",
      " [7.2]\n",
      " [5.8]\n",
      " [6.8]\n",
      " [6.1]\n",
      " [7.3]\n",
      " [8.2]\n",
      " [5.7]\n",
      " [7.65]\n",
      " [6.24]\n",
      " [7.0]\n",
      " [8.5]\n",
      " [7.1]\n",
      " [6.8]\n",
      " [7.07]\n",
      " [6.97]\n",
      " [5.59]\n",
      " [6.32]\n",
      " [6.5]\n",
      " [7.0]\n",
      " [8.3]\n",
      " [7.5]\n",
      " [7.07]\n",
      " [6.97]\n",
      " [5.59]\n",
      " [6.32]\n",
      " [6.5]\n",
      " [7.0]\n",
      " [8.3]\n",
      " [5.8]\n",
      " [8.2]\n",
      " [6.3]\n",
      " [7.2]\n",
      " [5.8]\n",
      " [6.8]\n",
      " [7.65]\n",
      " [6.24]\n",
      " [7.0]\n",
      " [8.5]\n",
      " [7.1]\n",
      " [6.8]\n",
      " [7.07]\n",
      " [6.97]]\n"
     ]
    }
   ],
   "source": [
    "#x=np.array(dataframe['momWeight/10']).reshape(-1,1)\n",
    "#or\n",
    "x=dataset[:,5].reshape(-1,1)\n",
    "print(x)"
   ]
  },
  {
   "cell_type": "code",
   "execution_count": 7,
   "metadata": {},
   "outputs": [
    {
     "name": "stdout",
     "output_type": "stream",
     "text": [
      "[9.5 10.33 20.33 15.25 12.17 11.08 8.5 6.02 9.33 9.5 10.33 20.33 15.25\n",
      " 12.17 11.08 8.5 6.02 9.33 11.23 9.07 6.33 9.22 12.38 15.5 16.5 12.38 9.35\n",
      " 22.38 23.35 9.6 6.22 12.25 11.07 12.27 7.25 9.68 15.33 20.43 22.07 22.38\n",
      " 23.35 9.6 6.22 12.25 11.07 12.27 7.25 9.68 15.33 20.43 22.07 15.5 16.5\n",
      " 12.38 9.35 22.38 23.35 9.6 6.22 12.25 11.07 12.27 7.25 9.68 3.35 20.22\n",
      " 11.23 9.07 6.33 9.22 12.38 15.5 16.5 12.38 9.35 22.38 23.35 9.6 6.22 17.5\n",
      " 0.27 3.35 20.22 11.23 9.07 6.33 9.22 12.38 15.5 16.5 12.38 9.35 22.38\n",
      " 23.35 21.27 10.37 9.25 16.27 9.38 22.27 6.02]\n"
     ]
    }
   ],
   "source": [
    "y=dataset[:,8] #1 D column expected\n",
    "print(y)"
   ]
  },
  {
   "cell_type": "code",
   "execution_count": 8,
   "metadata": {},
   "outputs": [],
   "source": [
    "#divide into train and test\n",
    "from sklearn.model_selection import train_test_split\n",
    "x_train,x_test,y_train,y_test=train_test_split(x,y,random_state=100)"
   ]
  },
  {
   "cell_type": "code",
   "execution_count": 9,
   "metadata": {},
   "outputs": [
    {
     "name": "stdout",
     "output_type": "stream",
     "text": [
      "x_train length: 75\n",
      "x_test length: 26\n",
      "y_train length: 75\n",
      "y_test length: 26\n"
     ]
    }
   ],
   "source": [
    "#check shapes\n",
    "print(f\"x_train length: {len(x_train)}\\nx_test length: {len(x_test)}\\ny_train length: {len(y_train)}\\ny_test length: {len(y_test)}\")"
   ]
  },
  {
   "cell_type": "code",
   "execution_count": 10,
   "metadata": {},
   "outputs": [
    {
     "data": {
      "text/html": [
       "<style>#sk-container-id-1 {color: black;background-color: white;}#sk-container-id-1 pre{padding: 0;}#sk-container-id-1 div.sk-toggleable {background-color: white;}#sk-container-id-1 label.sk-toggleable__label {cursor: pointer;display: block;width: 100%;margin-bottom: 0;padding: 0.3em;box-sizing: border-box;text-align: center;}#sk-container-id-1 label.sk-toggleable__label-arrow:before {content: \"▸\";float: left;margin-right: 0.25em;color: #696969;}#sk-container-id-1 label.sk-toggleable__label-arrow:hover:before {color: black;}#sk-container-id-1 div.sk-estimator:hover label.sk-toggleable__label-arrow:before {color: black;}#sk-container-id-1 div.sk-toggleable__content {max-height: 0;max-width: 0;overflow: hidden;text-align: left;background-color: #f0f8ff;}#sk-container-id-1 div.sk-toggleable__content pre {margin: 0.2em;color: black;border-radius: 0.25em;background-color: #f0f8ff;}#sk-container-id-1 input.sk-toggleable__control:checked~div.sk-toggleable__content {max-height: 200px;max-width: 100%;overflow: auto;}#sk-container-id-1 input.sk-toggleable__control:checked~label.sk-toggleable__label-arrow:before {content: \"▾\";}#sk-container-id-1 div.sk-estimator input.sk-toggleable__control:checked~label.sk-toggleable__label {background-color: #d4ebff;}#sk-container-id-1 div.sk-label input.sk-toggleable__control:checked~label.sk-toggleable__label {background-color: #d4ebff;}#sk-container-id-1 input.sk-hidden--visually {border: 0;clip: rect(1px 1px 1px 1px);clip: rect(1px, 1px, 1px, 1px);height: 1px;margin: -1px;overflow: hidden;padding: 0;position: absolute;width: 1px;}#sk-container-id-1 div.sk-estimator {font-family: monospace;background-color: #f0f8ff;border: 1px dotted black;border-radius: 0.25em;box-sizing: border-box;margin-bottom: 0.5em;}#sk-container-id-1 div.sk-estimator:hover {background-color: #d4ebff;}#sk-container-id-1 div.sk-parallel-item::after {content: \"\";width: 100%;border-bottom: 1px solid gray;flex-grow: 1;}#sk-container-id-1 div.sk-label:hover label.sk-toggleable__label {background-color: #d4ebff;}#sk-container-id-1 div.sk-serial::before {content: \"\";position: absolute;border-left: 1px solid gray;box-sizing: border-box;top: 0;bottom: 0;left: 50%;z-index: 0;}#sk-container-id-1 div.sk-serial {display: flex;flex-direction: column;align-items: center;background-color: white;padding-right: 0.2em;padding-left: 0.2em;position: relative;}#sk-container-id-1 div.sk-item {position: relative;z-index: 1;}#sk-container-id-1 div.sk-parallel {display: flex;align-items: stretch;justify-content: center;background-color: white;position: relative;}#sk-container-id-1 div.sk-item::before, #sk-container-id-1 div.sk-parallel-item::before {content: \"\";position: absolute;border-left: 1px solid gray;box-sizing: border-box;top: 0;bottom: 0;left: 50%;z-index: -1;}#sk-container-id-1 div.sk-parallel-item {display: flex;flex-direction: column;z-index: 1;position: relative;background-color: white;}#sk-container-id-1 div.sk-parallel-item:first-child::after {align-self: flex-end;width: 50%;}#sk-container-id-1 div.sk-parallel-item:last-child::after {align-self: flex-start;width: 50%;}#sk-container-id-1 div.sk-parallel-item:only-child::after {width: 0;}#sk-container-id-1 div.sk-dashed-wrapped {border: 1px dashed gray;margin: 0 0.4em 0.5em 0.4em;box-sizing: border-box;padding-bottom: 0.4em;background-color: white;}#sk-container-id-1 div.sk-label label {font-family: monospace;font-weight: bold;display: inline-block;line-height: 1.2em;}#sk-container-id-1 div.sk-label-container {text-align: center;}#sk-container-id-1 div.sk-container {/* jupyter's `normalize.less` sets `[hidden] { display: none; }` but bootstrap.min.css set `[hidden] { display: none !important; }` so we also need the `!important` here to be able to override the default hidden behavior on the sphinx rendered scikit-learn.org. See: https://github.com/scikit-learn/scikit-learn/issues/21755 */display: inline-block !important;position: relative;}#sk-container-id-1 div.sk-text-repr-fallback {display: none;}</style><div id=\"sk-container-id-1\" class=\"sk-top-container\"><div class=\"sk-text-repr-fallback\"><pre>RandomForestRegressor(random_state=0)</pre><b>In a Jupyter environment, please rerun this cell to show the HTML representation or trust the notebook. <br />On GitHub, the HTML representation is unable to render, please try loading this page with nbviewer.org.</b></div><div class=\"sk-container\" hidden><div class=\"sk-item\"><div class=\"sk-estimator sk-toggleable\"><input class=\"sk-toggleable__control sk-hidden--visually\" id=\"sk-estimator-id-1\" type=\"checkbox\" checked><label for=\"sk-estimator-id-1\" class=\"sk-toggleable__label sk-toggleable__label-arrow\">RandomForestRegressor</label><div class=\"sk-toggleable__content\"><pre>RandomForestRegressor(random_state=0)</pre></div></div></div></div></div>"
      ],
      "text/plain": [
       "RandomForestRegressor(random_state=0)"
      ]
     },
     "execution_count": 10,
     "metadata": {},
     "output_type": "execute_result"
    }
   ],
   "source": [
    "#using random forest regression model\n",
    "from sklearn.ensemble import RandomForestRegressor\n",
    "\n",
    "#create a regression object\n",
    "regressor= RandomForestRegressor(n_estimators=100,random_state=0)\n",
    "regressor.fit(x_train,y_train)"
   ]
  },
  {
   "cell_type": "code",
   "execution_count": 11,
   "metadata": {},
   "outputs": [],
   "source": [
    "import math"
   ]
  },
  {
   "cell_type": "code",
   "execution_count": 12,
   "metadata": {},
   "outputs": [
    {
     "name": "stdout",
     "output_type": "stream",
     "text": [
      "Weight [70.0] kg = Prediction: 9.20 am\n",
      "Weight [83.0] kg = Prediction: 5.49 pm\n",
      "Weight [76.5] kg = Prediction: 1.29 pm\n",
      "Weight [76.5] kg = Prediction: 1.29 pm\n",
      "Weight [63.2] kg = Prediction: 3.05 pm\n",
      "Weight [57.0] kg = Prediction: 4.21 pm\n",
      "Weight [65.0] kg = Prediction: 3.42 pm\n",
      "Weight [69.7] kg = Prediction: 9.49 am\n",
      "Weight [83.0] kg = Prediction: 5.49 pm\n",
      "Weight [68.0] kg = Prediction: 1.47 pm\n",
      "Weight [63.2] kg = Prediction: 3.05 pm\n",
      "Weight [55.9] kg = Prediction: 12.10 pm\n",
      "Weight [82.0] kg = Prediction: 11.32 am\n",
      "Weight [58.0] kg = Prediction: 11.23 am\n",
      "Weight [82.0] kg = Prediction: 11.32 am\n",
      "Weight [85.0] kg = Prediction: 8.37 am\n",
      "Weight [69.7] kg = Prediction: 9.49 am\n",
      "Weight [70.0] kg = Prediction: 9.20 am\n",
      "Weight [60.0] kg = Prediction: 10.00 am\n",
      "Weight [55.9] kg = Prediction: 12.10 pm\n",
      "Weight [85.0] kg = Prediction: 8.37 am\n",
      "Weight [65.0] kg = Prediction: 3.42 pm\n",
      "Weight [63.2] kg = Prediction: 3.05 pm\n",
      "Weight [76.5] kg = Prediction: 1.29 pm\n",
      "Weight [70.0] kg = Prediction: 9.20 am\n",
      "Weight [61.0] kg = Prediction: 8.57 am\n"
     ]
    }
   ],
   "source": [
    "y_hat=regressor.predict(x_test)\n",
    "for i in range(len(x_test)):\n",
    "    res=y_hat[i]\n",
    "    m=(round((res-int(res))*60,0))/100\n",
    "    h=math.trunc(res)\n",
    "    time=m+h\n",
    "    if time>0.0 and time<12.0:\n",
    "     \n",
    "     print(f\"Weight {x_test[i]*10} kg = Prediction: {time:0.2f} am\")\n",
    "    elif time>11.59 and time<23.59:\n",
    "        time=round(time-12.00,2)#convert into 12hrs clock\n",
    "        if time>=0.0 and time<=0.59:\n",
    "         print(f\"Weight {x_test[i]*10} kg = Prediction: {time+12.00:0.2f} pm\")\n",
    "        elif time>0.59:\n",
    "         print(f\"Weight {x_test[i]*10} kg = Prediction: {time:0.2f} pm\")\n",
    "    "
   ]
  },
  {
   "cell_type": "markdown",
   "metadata": {},
   "source": [
    "# Model Evalutaion"
   ]
  },
  {
   "cell_type": "code",
   "execution_count": 19,
   "metadata": {},
   "outputs": [
    {
     "name": "stdout",
     "output_type": "stream",
     "text": [
      "MSE root: 6.249171531925838\n",
      "MAE root: 5.019748367006927\n"
     ]
    }
   ],
   "source": [
    "#get the mean squared error root\n",
    "from sklearn.metrics import mean_squared_error,mean_absolute_error\n",
    "print(f\"MSE root: {np.sqrt(mean_squared_error(y_test,y_hat))}\")\n",
    "print(f\"MAE root: {mean_absolute_error(y_test,y_hat)}\")"
   ]
  },
  {
   "cell_type": "markdown",
   "metadata": {},
   "source": [
    "# Visualization of the model"
   ]
  },
  {
   "cell_type": "code",
   "execution_count": 18,
   "metadata": {},
   "outputs": [
    {
     "data": {
      "image/png": "[encoded data removed]",
      "text/plain": [
       "<Figure size 432x288 with 1 Axes>"
      ]
     },
     "metadata": {
      "needs_background": "light"
     },
     "output_type": "display_data"
    }
   ],
   "source": [
    "X_grid = np.arange(min(x), max(x), 0.01)\n",
    "  \n",
    "# reshape for reshaping the data into a len(X_grid)*1 array, \n",
    "# i.e. to make a column out of the X_grid value                  \n",
    "X_grid = X_grid.reshape((len(X_grid), 1))\n",
    "  \n",
    "# Scatter plot for original data\n",
    "plt.scatter(x, y, color = 'blue')  \n",
    "  \n",
    "# plot predicted data\n",
    "plt.plot(X_grid, regressor.predict(X_grid), \n",
    "         color = 'red') \n",
    "plt.title('Random Forest Regression')\n",
    "plt.xlabel('Mother Weight')\n",
    "plt.ylabel('Time')\n",
    "plt.show()"
   ]
  }
 ],
 "metadata": {
  "kernelspec": {
   "display_name": "Python 3.10.5 64-bit",
   "language": "python",
   "name": "python3"
  },
  "language_info": {
   "codemirror_mode": {
    "name": "ipython",
    "version": 3
   },
   "file_extension": ".py",
   "mimetype": "text/x-python",
   "name": "python",
   "nbconvert_exporter": "python",
   "pygments_lexer": "ipython3",
   "version": "3.10.5"
  },
  "orig_nbformat": 4,
  "vscode": {
   "interpreter": {
    "hash": "5b65f58aac08ef7a7032cc93a81d82c2e49bff9fbe70de5f6ea40a0cab91e5f6"
   }
  }
 },
 "nbformat": 4,
 "nbformat_minor": 2
}
