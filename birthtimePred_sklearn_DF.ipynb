{
  "cells": [
    {
      "cell_type": "markdown",
      "metadata": {
        "id": "view-in-github",
        "colab_type": "text"
      },
      "source": [
        "<a href=\"https://colab.research.google.com/github/tiprock-network/predictbirthTime-ML/blob/main/birthtimePred_sklearn_DF.ipynb\" target=\"_parent\"><img src=\"https://colab.research.google.com/assets/colab-badge.svg\" alt=\"Open In Colab\"/></a>"
      ]
    },
    {
      "cell_type": "markdown",
      "metadata": {
        "id": "4noh76VN_ZcV"
      },
      "source": [
        "## Gradient Boost Regressor with Scikit Learn\n",
        "![Sklearn](https://github.com/tiprock-network/predictbirthTime-ML/blob/main/sklearn.png?raw=true)"
      ]
    },
    {
      "cell_type": "code",
      "execution_count": null,
      "metadata": {
        "id": "HrF3Py4-_Zcc"
      },
      "outputs": [],
      "source": [
        "#import necessary tools\n",
        "from sklearn.ensemble import GradientBoostingRegressor\n",
        "from sklearn.model_selection import train_test_split\n",
        "from sklearn.metrics import mean_squared_error as MSE\n",
        "import numpy as np\n",
        "import pandas as pd\n",
        "import matplotlib.pyplot as plt\n"
      ]
    },
    {
      "cell_type": "markdown",
      "metadata": {
        "id": "mrxTeMcM_Zce"
      },
      "source": [
        "### Importing the data set\n"
      ]
    },
    {
      "cell_type": "code",
      "execution_count": null,
      "metadata": {
        "id": "l9oQWxOc_Zce",
        "outputId": "9f74eaa6-76fa-4c68-f41f-73c0fb285fe0"
      },
      "outputs": [
        {
          "data": {
            "text/html": [
              "<div>\n",
              "<style scoped>\n",
              "    .dataframe tbody tr th:only-of-type {\n",
              "        vertical-align: middle;\n",
              "    }\n",
              "\n",
              "    .dataframe tbody tr th {\n",
              "        vertical-align: top;\n",
              "    }\n",
              "\n",
              "    .dataframe thead th {\n",
              "        text-align: right;\n",
              "    }\n",
              "</style>\n",
              "<table border=\"1\" class=\"dataframe\">\n",
              "  <thead>\n",
              "    <tr style=\"text-align: right;\">\n",
              "      <th></th>\n",
              "      <th>systolic</th>\n",
              "      <th>diastolic</th>\n",
              "      <th>BMI</th>\n",
              "      <th>momWeight/10</th>\n",
              "      <th>timeValueinHrs</th>\n",
              "    </tr>\n",
              "  </thead>\n",
              "  <tbody>\n",
              "    <tr>\n",
              "      <th>0</th>\n",
              "      <td>110</td>\n",
              "      <td>80</td>\n",
              "      <td>19.3</td>\n",
              "      <td>5.59</td>\n",
              "      <td>20.33</td>\n",
              "    </tr>\n",
              "    <tr>\n",
              "      <th>1</th>\n",
              "      <td>124</td>\n",
              "      <td>86</td>\n",
              "      <td>18.5</td>\n",
              "      <td>5.59</td>\n",
              "      <td>7.25</td>\n",
              "    </tr>\n",
              "    <tr>\n",
              "      <th>2</th>\n",
              "      <td>110</td>\n",
              "      <td>80</td>\n",
              "      <td>19.3</td>\n",
              "      <td>5.59</td>\n",
              "      <td>15.50</td>\n",
              "    </tr>\n",
              "    <tr>\n",
              "      <th>3</th>\n",
              "      <td>124</td>\n",
              "      <td>86</td>\n",
              "      <td>25.1</td>\n",
              "      <td>5.59</td>\n",
              "      <td>9.35</td>\n",
              "    </tr>\n",
              "    <tr>\n",
              "      <th>4</th>\n",
              "      <td>122</td>\n",
              "      <td>76</td>\n",
              "      <td>19.3</td>\n",
              "      <td>5.59</td>\n",
              "      <td>20.22</td>\n",
              "    </tr>\n",
              "  </tbody>\n",
              "</table>\n",
              "</div>"
            ],
            "text/plain": [
              "   systolic  diastolic   BMI  momWeight/10  timeValueinHrs\n",
              "0       110         80  19.3          5.59           20.33\n",
              "1       124         86  18.5          5.59            7.25\n",
              "2       110         80  19.3          5.59           15.50\n",
              "3       124         86  25.1          5.59            9.35\n",
              "4       122         76  19.3          5.59           20.22"
            ]
          },
          "execution_count": 52,
          "metadata": {},
          "output_type": "execute_result"
        }
      ],
      "source": [
        "from pyexpat import features\n",
        "from sklearn import datasets\n",
        "\n",
        "\n",
        "dataset=pd.read_csv('labourward2.csv')\n",
        "dataset.head()\n",
        "\n"
      ]
    },
    {
      "cell_type": "markdown",
      "metadata": {
        "id": "563wfvJY_Zcg"
      },
      "source": [
        "Change into a numpy array"
      ]
    },
    {
      "cell_type": "code",
      "execution_count": null,
      "metadata": {
        "id": "zOYZSgyz_Zcg",
        "outputId": "52f20c49-bd7c-42ae-8dda-3f1a73ac6822"
      },
      "outputs": [
        {
          "name": "stdout",
          "output_type": "stream",
          "text": [
            "(101, 4) is x size\n",
            "(101,) is y size\n"
          ]
        }
      ],
      "source": [
        "x=np.array(dataset[['systolic','diastolic','BMI','momWeight/10']])\n",
        "print(f\"{x.shape} is x size\")\n",
        "\n",
        "y=np.array(dataset['timeValueinHrs'])\n",
        "print(f\"{y.shape} is y size\")"
      ]
    },
    {
      "cell_type": "markdown",
      "metadata": {
        "id": "oxT7DCG4_Zch"
      },
      "source": [
        "Split the data"
      ]
    },
    {
      "cell_type": "code",
      "execution_count": null,
      "metadata": {
        "id": "Q6tm-7Xv_Zch"
      },
      "outputs": [],
      "source": [
        "#test set and train set\n",
        "train_x,test_x,train_y,test_y=train_test_split(x,y,test_size=0.3,random_state=1)\n",
        "\n",
        "\n"
      ]
    },
    {
      "cell_type": "markdown",
      "metadata": {
        "id": "Ih3V35nX_Zci"
      },
      "source": [
        "GBR Model"
      ]
    },
    {
      "cell_type": "code",
      "execution_count": null,
      "metadata": {
        "id": "SgaQNSi4_Zcj"
      },
      "outputs": [],
      "source": [
        "import math"
      ]
    },
    {
      "cell_type": "code",
      "execution_count": null,
      "metadata": {
        "id": "sVs9HlP7_Zcj"
      },
      "outputs": [],
      "source": [
        "#the model itself\n",
        "gbr_model=GradientBoostingRegressor(n_estimators=200,max_depth=1,random_state=1)\n",
        "\n",
        "#fit training data\n",
        "gbr_model.fit(train_x,train_y)\n",
        "\n",
        "#use test set to give prediction\n",
        "\n",
        "y_hat=gbr_model.predict(test_x)\n",
        "\n",
        "\n"
      ]
    },
    {
      "cell_type": "code",
      "execution_count": null,
      "metadata": {
        "id": "Z8y-YAsZ_Zck",
        "outputId": "bb4391e6-d7b5-4bee-8965-4e4bdb302829"
      },
      "outputs": [
        {
          "name": "stdout",
          "output_type": "stream",
          "text": [
            "112.0/64.0mm/Hg \t18.3 BMI\t83.0 kg = Prediction: 4.06 pm\n",
            "124.0/86.0mm/Hg \t22.7 BMI\t75.0 kg = Prediction: 5.06 pm\n",
            "124.0/86.0mm/Hg \t20.2 BMI\t62.4 kg = Prediction: 2.16 pm\n",
            "110.0/80.0mm/Hg \t23.4 BMI\t85.0 kg  = Prediction: 9.35 am\n",
            "108.0/62.0mm/Hg \t24.3 BMI\t68.0 kg  = Prediction: 11.34 am\n",
            "122.0/76.0mm/Hg \t24.3 BMI\t77.0 kg = Prediction: 3.25 pm\n",
            "112.0/64.0mm/Hg \t20.2 BMI\t70.0 kg = Prediction: 3.34 pm\n",
            "112.0/64.0mm/Hg \t24.3 BMI\t76.5 kg = Prediction: 4.02 pm\n",
            "110.0/80.0mm/Hg \t20.1 BMI\t76.5 kg = Prediction: 4.22 pm\n",
            "122.0/76.0mm/Hg \t20.2 BMI\t70.0 kg = Prediction: 2.58 pm\n"
          ]
        }
      ],
      "source": [
        "#print predictions\n",
        "#len(test_x) for range\n",
        "for i in range(10):\n",
        "    res=y_hat[i]\n",
        "    m=(round((res-int(res))*60,0))/100\n",
        "    h=math.trunc(res)\n",
        "    time=m+h\n",
        "    if time>0.0 and time<12.0:\n",
        "     \n",
        "     print(f\"{test_x[i][0]}/{test_x[i][1]}mm/Hg \\t{test_x[i][2]} BMI\\t{round(test_x[i][3]*10,2)} kg  = Prediction: {time:0.2f} am\")\n",
        "    elif time>11.59 and time<23.59:\n",
        "        time=round(time-12.00,2)#convert into 12hrs clock\n",
        "        if time>=0.0 and time<=0.59:\n",
        "         print(f\"{test_x[i][0]}/{test_x[i][1]}mm/Hg \\t{test_x[i][2]} BMI\\t{round(test_x[i][3]*10,2)} kg = Prediction: {time+12.00:0.2f} pm\")\n",
        "        elif time>0.59:\n",
        "         print(f\"{test_x[i][0]}/{test_x[i][1]}mm/Hg \\t{test_x[i][2]} BMI\\t{round(test_x[i][3]*10,2)} kg = Prediction: {time:0.2f} pm\")"
      ]
    },
    {
      "cell_type": "markdown",
      "metadata": {
        "id": "BHaPCsrn_Zcl"
      },
      "source": [
        "#### GBR MODEL EVALUATION"
      ]
    },
    {
      "cell_type": "code",
      "execution_count": null,
      "metadata": {
        "id": "2a_xSOzU_Zcm",
        "outputId": "f65f9e94-9d77-453c-9cb5-e349c92c518a"
      },
      "outputs": [
        {
          "name": "stdout",
          "output_type": "stream",
          "text": [
            "RMSE value : 5.78\n"
          ]
        }
      ],
      "source": [
        "#get the RMSE of the model\n",
        "tRMSE=MSE(test_y,y_hat)**0.5\n",
        "print(f\"RMSE value : {tRMSE:.2f}\")"
      ]
    },
    {
      "cell_type": "code",
      "execution_count": null,
      "metadata": {
        "id": "xY1_Djvy_Zcm",
        "outputId": "c6ad607c-dcfd-4fd0-8143-038575cb361e"
      },
      "outputs": [
        {
          "name": "stdout",
          "output_type": "stream",
          "text": [
            "MSE root: 7.055525360700418\n",
            "MAE root: 2.3151137371463357\n"
          ]
        }
      ],
      "source": [
        "from sklearn.metrics import mean_squared_error,mean_absolute_error\n",
        "print(f\"MSE root: {np.sqrt(mean_squared_error(test_y,y_hat))}\")\n",
        "print(f\"MAE root: {np.sqrt(mean_absolute_error(test_y,y_hat))}\")"
      ]
    },
    {
      "cell_type": "markdown",
      "metadata": {
        "id": "ktXcOTMn_Zcn"
      },
      "source": [
        "## Visualizing the Model"
      ]
    },
    {
      "cell_type": "code",
      "execution_count": null,
      "metadata": {
        "id": "UXfkwuFt_Zcn"
      },
      "outputs": [],
      "source": [
        "params = {\n",
        "    \"n_estimators\": 200,\n",
        "    \"max_depth\": 1,\n",
        "    \"min_samples_split\": 5,\n",
        "    \"learning_rate\": 0.01,\n",
        "    \"loss\": \"squared_error\",\n",
        "}"
      ]
    },
    {
      "cell_type": "code",
      "execution_count": null,
      "metadata": {
        "id": "Tq-ySuzt_Zcn",
        "outputId": "6fdbe720-5e86-4af7-90be-cddc6beedb28"
      },
      "outputs": [
        {
          "name": "stderr",
          "output_type": "stream",
          "text": [
            "c:\\Users\\theop\\AppData\\Local\\Programs\\Python\\Python310\\lib\\site-packages\\sklearn\\utils\\deprecation.py:103: FutureWarning: Attribute `loss_` was deprecated in version 1.1 and will be removed in 1.3.\n",
            "  warnings.warn(msg, category=FutureWarning)\n"
          ]
        },
        {
          "data": {
            "image/png": "[encoded data removed]",
            "text/plain": [
              "<Figure size 432x432 with 1 Axes>"
            ]
          },
          "metadata": {
            "needs_background": "light"
          },
          "output_type": "display_data"
        }
      ],
      "source": [
        "test_score = np.zeros((params[\"n_estimators\"],), dtype=np.float64)\n",
        "for i, y_pred in enumerate(gbr_model.staged_predict(test_x)):\n",
        "    test_score[i] = gbr_model.loss_(test_y, y_pred)\n",
        "\n",
        "fig = plt.figure(figsize=(6, 6))\n",
        "plt.subplot(1, 1, 1)\n",
        "plt.title(\"Deviance\")\n",
        "plt.plot(\n",
        "    np.arange(params[\"n_estimators\"]) + 1,\n",
        "    gbr_model.train_score_,\n",
        "    \"b-\",\n",
        "    label=\"Training Set Deviance\",\n",
        ")\n",
        "plt.plot(\n",
        "    np.arange(params[\"n_estimators\"]) + 1, test_score, \"r-\", label=\"Test Set Deviance\"\n",
        ")\n",
        "plt.legend(loc=\"upper right\")\n",
        "plt.xlabel(\"Boosting Iterations\")\n",
        "plt.ylabel(\"Deviance\")\n",
        "fig.tight_layout()\n",
        "plt.show()"
      ]
    },
    {
      "cell_type": "markdown",
      "metadata": {
        "id": "DWLg5k4f_Zco"
      },
      "source": [
        "### Feature Importance\n",
        "Features to consider"
      ]
    },
    {
      "cell_type": "code",
      "execution_count": null,
      "metadata": {
        "id": "gSxF1H5e_Zco",
        "outputId": "26b28430-a6c2-401b-ff29-cfe8b4430a13"
      },
      "outputs": [
        {
          "ename": "AttributeError",
          "evalue": "'DataFrame' object has no attribute 'feature_names'",
          "output_type": "error",
          "traceback": [
            "\u001b[1;31m---------------------------------------------------------------------------\u001b[0m",
            "\u001b[1;31mAttributeError\u001b[0m                            Traceback (most recent call last)",
            "\u001b[1;32mc:\\Users\\theop\\Desktop\\AI and Data Science\\research project(Birth Prediction)\\birthtimePred Tensorflow DF.ipynb Cell 20\u001b[0m in \u001b[0;36m<cell line: 18>\u001b[1;34m()\u001b[0m\n\u001b[0;32m     <a href='vscode-notebook-cell:/c%3A/Users/theop/Desktop/AI%20and%20Data%20Science/research%20project%28Birth%20Prediction%29/birthtimePred%20Tensorflow%20DF.ipynb#X30sZmlsZQ%3D%3D?line=15'>16</a>\u001b[0m sorted_idx \u001b[39m=\u001b[39m result\u001b[39m.\u001b[39mimportances_mean\u001b[39m.\u001b[39margsort()\n\u001b[0;32m     <a href='vscode-notebook-cell:/c%3A/Users/theop/Desktop/AI%20and%20Data%20Science/research%20project%28Birth%20Prediction%29/birthtimePred%20Tensorflow%20DF.ipynb#X30sZmlsZQ%3D%3D?line=16'>17</a>\u001b[0m plt\u001b[39m.\u001b[39msubplot(\u001b[39m1\u001b[39m, \u001b[39m2\u001b[39m, \u001b[39m2\u001b[39m)\n\u001b[0;32m     <a href='vscode-notebook-cell:/c%3A/Users/theop/Desktop/AI%20and%20Data%20Science/research%20project%28Birth%20Prediction%29/birthtimePred%20Tensorflow%20DF.ipynb#X30sZmlsZQ%3D%3D?line=17'>18</a>\u001b[0m plt\u001b[39m.\u001b[39mboxplot(\n\u001b[0;32m     <a href='vscode-notebook-cell:/c%3A/Users/theop/Desktop/AI%20and%20Data%20Science/research%20project%28Birth%20Prediction%29/birthtimePred%20Tensorflow%20DF.ipynb#X30sZmlsZQ%3D%3D?line=18'>19</a>\u001b[0m     result\u001b[39m.\u001b[39mimportances[sorted_idx]\u001b[39m.\u001b[39mT,\n\u001b[0;32m     <a href='vscode-notebook-cell:/c%3A/Users/theop/Desktop/AI%20and%20Data%20Science/research%20project%28Birth%20Prediction%29/birthtimePred%20Tensorflow%20DF.ipynb#X30sZmlsZQ%3D%3D?line=19'>20</a>\u001b[0m     vert\u001b[39m=\u001b[39m\u001b[39mFalse\u001b[39;00m,\n\u001b[1;32m---> <a href='vscode-notebook-cell:/c%3A/Users/theop/Desktop/AI%20and%20Data%20Science/research%20project%28Birth%20Prediction%29/birthtimePred%20Tensorflow%20DF.ipynb#X30sZmlsZQ%3D%3D?line=20'>21</a>\u001b[0m     labels\u001b[39m=\u001b[39mnp\u001b[39m.\u001b[39marray(dataset\u001b[39m.\u001b[39;49mfeature_names)[sorted_idx],\n\u001b[0;32m     <a href='vscode-notebook-cell:/c%3A/Users/theop/Desktop/AI%20and%20Data%20Science/research%20project%28Birth%20Prediction%29/birthtimePred%20Tensorflow%20DF.ipynb#X30sZmlsZQ%3D%3D?line=21'>22</a>\u001b[0m )\n\u001b[0;32m     <a href='vscode-notebook-cell:/c%3A/Users/theop/Desktop/AI%20and%20Data%20Science/research%20project%28Birth%20Prediction%29/birthtimePred%20Tensorflow%20DF.ipynb#X30sZmlsZQ%3D%3D?line=22'>23</a>\u001b[0m plt\u001b[39m.\u001b[39mtitle(\u001b[39m\"\u001b[39m\u001b[39mPermutation Importance (test set)\u001b[39m\u001b[39m\"\u001b[39m)\n\u001b[0;32m     <a href='vscode-notebook-cell:/c%3A/Users/theop/Desktop/AI%20and%20Data%20Science/research%20project%28Birth%20Prediction%29/birthtimePred%20Tensorflow%20DF.ipynb#X30sZmlsZQ%3D%3D?line=23'>24</a>\u001b[0m fig\u001b[39m.\u001b[39mtight_layout()\n",
            "File \u001b[1;32mc:\\Users\\theop\\AppData\\Local\\Programs\\Python\\Python310\\lib\\site-packages\\pandas\\core\\generic.py:5575\u001b[0m, in \u001b[0;36mNDFrame.__getattr__\u001b[1;34m(self, name)\u001b[0m\n\u001b[0;32m   5568\u001b[0m \u001b[39mif\u001b[39;00m (\n\u001b[0;32m   5569\u001b[0m     name \u001b[39mnot\u001b[39;00m \u001b[39min\u001b[39;00m \u001b[39mself\u001b[39m\u001b[39m.\u001b[39m_internal_names_set\n\u001b[0;32m   5570\u001b[0m     \u001b[39mand\u001b[39;00m name \u001b[39mnot\u001b[39;00m \u001b[39min\u001b[39;00m \u001b[39mself\u001b[39m\u001b[39m.\u001b[39m_metadata\n\u001b[0;32m   5571\u001b[0m     \u001b[39mand\u001b[39;00m name \u001b[39mnot\u001b[39;00m \u001b[39min\u001b[39;00m \u001b[39mself\u001b[39m\u001b[39m.\u001b[39m_accessors\n\u001b[0;32m   5572\u001b[0m     \u001b[39mand\u001b[39;00m \u001b[39mself\u001b[39m\u001b[39m.\u001b[39m_info_axis\u001b[39m.\u001b[39m_can_hold_identifiers_and_holds_name(name)\n\u001b[0;32m   5573\u001b[0m ):\n\u001b[0;32m   5574\u001b[0m     \u001b[39mreturn\u001b[39;00m \u001b[39mself\u001b[39m[name]\n\u001b[1;32m-> 5575\u001b[0m \u001b[39mreturn\u001b[39;00m \u001b[39mobject\u001b[39;49m\u001b[39m.\u001b[39;49m\u001b[39m__getattribute__\u001b[39;49m(\u001b[39mself\u001b[39;49m, name)\n",
            "\u001b[1;31mAttributeError\u001b[0m: 'DataFrame' object has no attribute 'feature_names'"
          ]
        },
        {
          "data": {
            "image/png": "[encoded data removed]",
            "text/plain": [
              "<Figure size 864x432 with 2 Axes>"
            ]
          },
          "metadata": {
            "needs_background": "light"
          },
          "output_type": "display_data"
        }
      ],
      "source": [
        "from sklearn.inspection import permutation_importance\n",
        "\n",
        "\n",
        "feature_importance = gbr_model.feature_importances_\n",
        "sorted_idx = np.argsort(feature_importance)\n",
        "pos = np.arange(sorted_idx.shape[0]) + 0.5\n",
        "fig = plt.figure(figsize=(12, 6))\n",
        "plt.subplot(1, 2, 1)\n",
        "plt.barh(pos, feature_importance[sorted_idx], align=\"center\")\n",
        "plt.yticks(pos, np.array(['systolic','diastolic','BMI','momWeight/10'])[sorted_idx])\n",
        "plt.title(\"Feature Importance (MDI)\")\n",
        "\n",
        "result = permutation_importance(\n",
        "    gbr_model, test_x, test_y, n_repeats=10, random_state=42, n_jobs=2\n",
        ")\n",
        "sorted_idx = result.importances_mean.argsort()\n",
        "plt.subplot(1, 2, 2)\n",
        "plt.boxplot(\n",
        "    result.importances[sorted_idx].T,\n",
        "    vert=False,\n",
        "    labels=np.array(dataset.feature_names)[sorted_idx],\n",
        ")\n",
        "plt.title(\"Permutation Importance (test set)\")\n",
        "fig.tight_layout()\n",
        "plt.show()"
      ]
    }
  ],
  "metadata": {
    "kernelspec": {
      "display_name": "Python 3.10.5 64-bit",
      "language": "python",
      "name": "python3"
    },
    "language_info": {
      "codemirror_mode": {
        "name": "ipython",
        "version": 3
      },
      "file_extension": ".py",
      "mimetype": "text/x-python",
      "name": "python",
      "nbconvert_exporter": "python",
      "pygments_lexer": "ipython3",
      "version": "3.10.5"
    },
    "orig_nbformat": 4,
    "vscode": {
      "interpreter": {
        "hash": "5b65f58aac08ef7a7032cc93a81d82c2e49bff9fbe70de5f6ea40a0cab91e5f6"
      }
    },
    "colab": {
      "provenance": [],
      "include_colab_link": true
    }
  },
  "nbformat": 4,
  "nbformat_minor": 0
}